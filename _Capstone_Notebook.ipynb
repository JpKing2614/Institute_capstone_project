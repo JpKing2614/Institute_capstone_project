{
 "cells": [
  {
   "cell_type": "markdown",
   "id": "42bcef5c",
   "metadata": {},
   "source": [
    "# Capstone Project - Credit Card Default Prediction"
   ]
  },
  {
   "cell_type": "markdown",
   "id": "b9db7945",
   "metadata": {},
   "source": [
    "### Data source:\n",
    " - https://archive.ics.uci.edu/ml/datasets/default+of+credit+card+clients"
   ]
  },
  {
   "cell_type": "markdown",
   "id": "113d030f",
   "metadata": {},
   "source": [
    "## Import packages and data into environment"
   ]
  },
  {
   "cell_type": "code",
   "execution_count": 32,
   "id": "23344f76",
   "metadata": {},
   "outputs": [],
   "source": [
    "#--Import os and time packages, and set seed--#\n",
    "\n",
    "import time\n",
    "import os\n",
    "#os.chdir('D:\\\\')\n",
    "\n",
    "import random\n",
    "random.seed(2591697151059353230)"
   ]
  },
  {
   "cell_type": "code",
   "execution_count": 2,
   "id": "be83df1d",
   "metadata": {},
   "outputs": [],
   "source": [
    "#--Import packages for data wrangling and analysis--#\n",
    "\n",
    "import pandas as pd\n",
    "import numpy as np\n",
    "import matplotlib.pyplot as plt\n",
    "\n",
    "from scipy.stats import norm #-- for quantile comparison"
   ]
  },
  {
   "cell_type": "code",
   "execution_count": 3,
   "id": "9fc65e7b",
   "metadata": {},
   "outputs": [],
   "source": [
    "#--Define function generating normal QQ plots--#\n",
    "\n",
    "def ser_quantile_plot(series, n=1000):\n",
    "    mu = series.mean()\n",
    "    sig = series.std()\n",
    "    normed_series = (series-mu)/sig\n",
    "    my_range = (np.arange(n)+1)/(n+1)\n",
    "    my_x = []\n",
    "    my_y = []\n",
    "    for i in my_range:\n",
    "        x = norm.ppf(i, loc=0, scale=1)\n",
    "        y = normed_series.quantile(i)\n",
    "        my_x = my_x + [x]\n",
    "        my_y = my_y + [y]\n",
    "    my_x = np.array(my_x)\n",
    "    my_y = np.array(my_y)\n",
    "    my_min = my_x.min()\n",
    "    my_max = my_x.max()\n",
    "    my_vec = [my_min, my_max]\n",
    "    plt.plot(my_x, my_y)\n",
    "    plt.plot(my_vec, my_vec, color='red', linestyle = '--')\n",
    "    plt.show()"
   ]
  },
  {
   "cell_type": "code",
   "execution_count": 4,
   "id": "0116c6d7",
   "metadata": {},
   "outputs": [],
   "source": [
    "#--Read default data into environment--#\n",
    "\n",
    "my_data = pd.read_csv('default of credit card clients.csv')\n",
    "my_data = my_data.loc[:,'LIMIT_BAL':'default payment next month'] #--remove unusable 'ID' variable"
   ]
  },
  {
   "cell_type": "code",
   "execution_count": 5,
   "id": "9de458c8",
   "metadata": {},
   "outputs": [],
   "source": [
    "#--Remove entries with unusual values--#\n",
    "\n",
    "my_data = my_data[my_data.MARRIAGE <3]\n",
    "my_data = my_data[my_data.MARRIAGE >0]\n",
    "\n",
    "my_data = my_data[my_data.BILL_AMT1 >-2500]\n",
    "my_data = my_data[my_data.BILL_AMT2 >-2500]\n",
    "my_data = my_data[my_data.BILL_AMT3 >-2500]\n",
    "my_data = my_data[my_data.BILL_AMT4 >-2500]\n",
    "my_data = my_data[my_data.BILL_AMT5 >-2500]\n",
    "my_data = my_data[my_data.BILL_AMT6 >-2500]"
   ]
  },
  {
   "cell_type": "code",
   "execution_count": 6,
   "id": "e76349a8",
   "metadata": {},
   "outputs": [],
   "source": [
    "#--Define function for QQ plots of attributes with function 'fun'--# \n",
    "\n",
    "def data_qplot(name, fun=lambda x:x):\n",
    "    return ser_quantile_plot(my_data[name].apply(fun))"
   ]
  },
  {
   "cell_type": "markdown",
   "id": "f5eb33a8",
   "metadata": {},
   "source": [
    "## EXPLORATORY DATA ANALYSIS"
   ]
  },
  {
   "cell_type": "code",
   "execution_count": 7,
   "id": "6057e604",
   "metadata": {},
   "outputs": [
    {
     "data": {
      "text/plain": [
       "LIMIT_BAL                    -0.153745\n",
       "SEX                          -0.039244\n",
       "EDUCATION                     0.029292\n",
       "MARRIAGE                     -0.031499\n",
       "AGE                           0.013298\n",
       "PAY_0                         0.327231\n",
       "PAY_2                         0.265271\n",
       "PAY_3                         0.235321\n",
       "PAY_4                         0.216844\n",
       "PAY_5                         0.204942\n",
       "PAY_6                         0.187850\n",
       "BILL_AMT1                    -0.020341\n",
       "BILL_AMT2                    -0.014396\n",
       "BILL_AMT3                    -0.013706\n",
       "BILL_AMT4                    -0.010574\n",
       "BILL_AMT5                    -0.006774\n",
       "BILL_AMT6                    -0.004981\n",
       "PAY_AMT1                     -0.076768\n",
       "PAY_AMT2                     -0.067170\n",
       "PAY_AMT3                     -0.059617\n",
       "PAY_AMT4                     -0.058911\n",
       "PAY_AMT5                     -0.057082\n",
       "PAY_AMT6                     -0.055492\n",
       "default payment next month    1.000000\n",
       "Name: default payment next month, dtype: float64"
      ]
     },
     "execution_count": 7,
     "metadata": {},
     "output_type": "execute_result"
    }
   ],
   "source": [
    "#--Check correlations--#\n",
    "\n",
    "def_corr = pd.DataFrame(my_data.corr())['default payment next month']\n",
    "def_corr"
   ]
  },
  {
   "cell_type": "markdown",
   "id": "051e9485",
   "metadata": {},
   "source": [
    "### Example of function effect:"
   ]
  },
  {
   "cell_type": "code",
   "execution_count": 8,
   "id": "2e5fac2b",
   "metadata": {},
   "outputs": [
    {
     "name": "stdout",
     "output_type": "stream",
     "text": [
      "PAY_AMT1\n"
     ]
    },
    {
     "data": {
      "image/png": "[encoded data removed]",
      "text/plain": [
       "<Figure size 640x480 with 1 Axes>"
      ]
     },
     "metadata": {},
     "output_type": "display_data"
    }
   ],
   "source": [
    "#-- QQ plot for BILL_AMT1 variable--#\n",
    "\n",
    "print('PAY_AMT1')\n",
    "data_qplot('BILL_AMT1')"
   ]
  },
  {
   "cell_type": "code",
   "execution_count": 9,
   "id": "9161850d",
   "metadata": {},
   "outputs": [
    {
     "name": "stdout",
     "output_type": "stream",
     "text": [
      "log(PAY_AMT1+2500)\n"
     ]
    },
    {
     "data": {
      "image/png": "[encoded data removed]",
      "text/plain": [
       "<Figure size 640x480 with 1 Axes>"
      ]
     },
     "metadata": {},
     "output_type": "display_data"
    }
   ],
   "source": [
    "#-- QQ plot for BILL_AMT1 variable with log function--#\n",
    "\n",
    "print('log(PAY_AMT1+2500)')\n",
    "data_qplot('BILL_AMT1', lambda x: np.log(x+2500))"
   ]
  },
  {
   "cell_type": "markdown",
   "id": "4be73d7b",
   "metadata": {},
   "source": [
    "## Example PAY_AMT variable histograms:"
   ]
  },
  {
   "cell_type": "code",
   "execution_count": 10,
   "id": "ba4770d1",
   "metadata": {},
   "outputs": [
    {
     "name": "stdout",
     "output_type": "stream",
     "text": [
      "PAY_AMT1\n"
     ]
    },
    {
     "data": {
      "image/png": "[encoded data removed]",
      "text/plain": [
       "<Figure size 640x480 with 1 Axes>"
      ]
     },
     "metadata": {},
     "output_type": "display_data"
    }
   ],
   "source": [
    "#-- histogram of PAY_AMT1 variable--#\n",
    "\n",
    "print('PAY_AMT1')\n",
    "my_data['PAY_AMT1'].hist(bins=150)\n",
    "plt.show()"
   ]
  },
  {
   "cell_type": "code",
   "execution_count": 11,
   "id": "6e62bbad",
   "metadata": {},
   "outputs": [
    {
     "name": "stdout",
     "output_type": "stream",
     "text": [
      "log(PAY_AMT1+1)\n"
     ]
    },
    {
     "data": {
      "image/png": "[encoded data removed]",
      "text/plain": [
       "<Figure size 640x480 with 1 Axes>"
      ]
     },
     "metadata": {},
     "output_type": "display_data"
    }
   ],
   "source": [
    "#--Histogram of log(PAY_AMT1 +1)--#\n",
    "\n",
    "print('log(PAY_AMT1+1)')\n",
    "my_data['PAY_AMT1'].apply(lambda x: np.log(x+1)).hist(bins=150)\n",
    "plt.show()"
   ]
  },
  {
   "cell_type": "code",
   "execution_count": 12,
   "id": "fce88cb5",
   "metadata": {},
   "outputs": [],
   "source": [
    "#--Defines functions to create indicator and continuous parts of PAY variable--#\n",
    "\n",
    "def pay_is_zero(value):\n",
    "    if value == 0:\n",
    "        return 1\n",
    "    else:\n",
    "        return 0\n",
    "    \n",
    "def pay_positive(value):\n",
    "    if value > 0:\n",
    "        return np.log(value)\n",
    "    else:\n",
    "        return np.nan"
   ]
  },
  {
   "cell_type": "code",
   "execution_count": 13,
   "id": "e3f34375",
   "metadata": {},
   "outputs": [],
   "source": [
    "#--Creates copy of data for transformation-##\n",
    "\n",
    "t_data = my_data.copy()"
   ]
  },
  {
   "cell_type": "code",
   "execution_count": 14,
   "id": "bd8463ce",
   "metadata": {},
   "outputs": [],
   "source": [
    "#--Apply transformations to normalise numerical data--#\n",
    "\n",
    "t_data['LIMIT_BAL']   = my_data.LIMIT_BAL.apply(lambda x: x**0.5)\n",
    "t_data['SEX']       = my_data.SEX.apply(lambda x: x-1)\n",
    "t_data['EDUCATION'] = my_data.EDUCATION.apply(lambda x: x)\n",
    "t_data['MARRIAGE']  = my_data.MARRIAGE.apply(lambda x: x-1)\n",
    "t_data['AGE']       = my_data.AGE.apply(lambda x: x**0.5)\n",
    "t_data['PAY_0']  = my_data.PAY_0.apply(lambda x: x)\n",
    "\n",
    "t_data['BILL_AMT1'] = my_data.BILL_AMT1.apply(lambda x:np.log(x+2500))\n",
    "t_data['BILL_AMT2'] = my_data.BILL_AMT2.apply(lambda x:np.log(x+2500))\n",
    "t_data['BILL_AMT3'] = my_data.BILL_AMT3.apply(lambda x:np.log(x+2500))\n",
    "t_data['BILL_AMT4'] = my_data.BILL_AMT4.apply(lambda x:np.log(x+2500))\n",
    "t_data['BILL_AMT5'] = my_data.BILL_AMT5.apply(lambda x:np.log(x+2500))\n",
    "t_data['BILL_AMT6'] = my_data.BILL_AMT6.apply(lambda x:np.log(x+2500))\n",
    "\n",
    "#--Separates PAY variables into discrete indicators of 0, and positive parts-#\n",
    "\n",
    "t_data['PAY_AMT1_is_0'] = my_data.PAY_AMT1.apply(pay_is_zero)\n",
    "t_data['PAY_AMT1_>_0']  = my_data.PAY_AMT1.apply(pay_positive)\n",
    "\n",
    "t_data['PAY_AMT2_is_0'] = my_data.PAY_AMT2.apply(pay_is_zero)\n",
    "t_data['PAY_AMT2_>_0']  = my_data.PAY_AMT2.apply(pay_positive)\n",
    "\n",
    "t_data['PAY_AMT3_is_0'] = my_data.PAY_AMT3.apply(pay_is_zero)\n",
    "t_data['PAY_AMT3_>_0']  = my_data.PAY_AMT3.apply(pay_positive)\n",
    "\n",
    "t_data['PAY_AMT4_is_0'] = my_data.PAY_AMT4.apply(pay_is_zero)\n",
    "t_data['PAY_AMT4_>_0']  = my_data.PAY_AMT4.apply(pay_positive)\n",
    "\n",
    "t_data['PAY_AMT5_is_0'] = my_data.PAY_AMT5.apply(pay_is_zero)\n",
    "t_data['PAY_AMT5_>_0']  = my_data.PAY_AMT5.apply(pay_positive)\n",
    "\n",
    "t_data['PAY_AMT6_is_0'] = my_data.PAY_AMT6.apply(pay_is_zero)\n",
    "t_data['PAY_AMT6_>_0']  = my_data.PAY_AMT6.apply(pay_positive)"
   ]
  },
  {
   "cell_type": "code",
   "execution_count": 15,
   "id": "640d487c",
   "metadata": {},
   "outputs": [
    {
     "data": {
      "text/html": [
       "<div>\n",
       "<style scoped>\n",
       "    .dataframe tbody tr th:only-of-type {\n",
       "        vertical-align: middle;\n",
       "    }\n",
       "\n",
       "    .dataframe tbody tr th {\n",
       "        vertical-align: top;\n",
       "    }\n",
       "\n",
       "    .dataframe thead th {\n",
       "        text-align: right;\n",
       "    }\n",
       "</style>\n",
       "<table border=\"1\" class=\"dataframe\">\n",
       "  <thead>\n",
       "    <tr style=\"text-align: right;\">\n",
       "      <th></th>\n",
       "      <th>LIMIT_BAL</th>\n",
       "      <th>SEX</th>\n",
       "      <th>EDUCATION</th>\n",
       "      <th>MARRIAGE</th>\n",
       "      <th>AGE</th>\n",
       "      <th>PAY_0</th>\n",
       "      <th>PAY_2</th>\n",
       "      <th>PAY_3</th>\n",
       "      <th>PAY_4</th>\n",
       "      <th>PAY_5</th>\n",
       "      <th>...</th>\n",
       "      <th>PAY_AMT2_is_0</th>\n",
       "      <th>PAY_AMT2_&gt;_0</th>\n",
       "      <th>PAY_AMT3_is_0</th>\n",
       "      <th>PAY_AMT3_&gt;_0</th>\n",
       "      <th>PAY_AMT4_is_0</th>\n",
       "      <th>PAY_AMT4_&gt;_0</th>\n",
       "      <th>PAY_AMT5_is_0</th>\n",
       "      <th>PAY_AMT5_&gt;_0</th>\n",
       "      <th>PAY_AMT6_is_0</th>\n",
       "      <th>PAY_AMT6_&gt;_0</th>\n",
       "    </tr>\n",
       "  </thead>\n",
       "  <tbody>\n",
       "    <tr>\n",
       "      <th>0</th>\n",
       "      <td>141.421356</td>\n",
       "      <td>1</td>\n",
       "      <td>2</td>\n",
       "      <td>0</td>\n",
       "      <td>4.898979</td>\n",
       "      <td>2</td>\n",
       "      <td>2</td>\n",
       "      <td>-1</td>\n",
       "      <td>-1</td>\n",
       "      <td>-2</td>\n",
       "      <td>...</td>\n",
       "      <td>0</td>\n",
       "      <td>6.535241</td>\n",
       "      <td>1</td>\n",
       "      <td>NaN</td>\n",
       "      <td>1</td>\n",
       "      <td>NaN</td>\n",
       "      <td>1</td>\n",
       "      <td>NaN</td>\n",
       "      <td>1</td>\n",
       "      <td>NaN</td>\n",
       "    </tr>\n",
       "    <tr>\n",
       "      <th>1</th>\n",
       "      <td>346.410162</td>\n",
       "      <td>1</td>\n",
       "      <td>2</td>\n",
       "      <td>1</td>\n",
       "      <td>5.099020</td>\n",
       "      <td>-1</td>\n",
       "      <td>2</td>\n",
       "      <td>0</td>\n",
       "      <td>0</td>\n",
       "      <td>0</td>\n",
       "      <td>...</td>\n",
       "      <td>0</td>\n",
       "      <td>6.907755</td>\n",
       "      <td>0</td>\n",
       "      <td>6.907755</td>\n",
       "      <td>0</td>\n",
       "      <td>6.907755</td>\n",
       "      <td>1</td>\n",
       "      <td>NaN</td>\n",
       "      <td>0</td>\n",
       "      <td>7.600902</td>\n",
       "    </tr>\n",
       "    <tr>\n",
       "      <th>2</th>\n",
       "      <td>300.000000</td>\n",
       "      <td>1</td>\n",
       "      <td>2</td>\n",
       "      <td>1</td>\n",
       "      <td>5.830952</td>\n",
       "      <td>0</td>\n",
       "      <td>0</td>\n",
       "      <td>0</td>\n",
       "      <td>0</td>\n",
       "      <td>0</td>\n",
       "      <td>...</td>\n",
       "      <td>0</td>\n",
       "      <td>7.313220</td>\n",
       "      <td>0</td>\n",
       "      <td>6.907755</td>\n",
       "      <td>0</td>\n",
       "      <td>6.907755</td>\n",
       "      <td>0</td>\n",
       "      <td>6.907755</td>\n",
       "      <td>0</td>\n",
       "      <td>8.517193</td>\n",
       "    </tr>\n",
       "    <tr>\n",
       "      <th>3</th>\n",
       "      <td>223.606798</td>\n",
       "      <td>1</td>\n",
       "      <td>2</td>\n",
       "      <td>0</td>\n",
       "      <td>6.082763</td>\n",
       "      <td>0</td>\n",
       "      <td>0</td>\n",
       "      <td>0</td>\n",
       "      <td>0</td>\n",
       "      <td>0</td>\n",
       "      <td>...</td>\n",
       "      <td>0</td>\n",
       "      <td>7.610358</td>\n",
       "      <td>0</td>\n",
       "      <td>7.090077</td>\n",
       "      <td>0</td>\n",
       "      <td>7.003065</td>\n",
       "      <td>0</td>\n",
       "      <td>6.974479</td>\n",
       "      <td>0</td>\n",
       "      <td>6.907755</td>\n",
       "    </tr>\n",
       "    <tr>\n",
       "      <th>4</th>\n",
       "      <td>223.606798</td>\n",
       "      <td>0</td>\n",
       "      <td>2</td>\n",
       "      <td>0</td>\n",
       "      <td>7.549834</td>\n",
       "      <td>-1</td>\n",
       "      <td>0</td>\n",
       "      <td>-1</td>\n",
       "      <td>0</td>\n",
       "      <td>0</td>\n",
       "      <td>...</td>\n",
       "      <td>0</td>\n",
       "      <td>10.510014</td>\n",
       "      <td>0</td>\n",
       "      <td>9.210340</td>\n",
       "      <td>0</td>\n",
       "      <td>9.104980</td>\n",
       "      <td>0</td>\n",
       "      <td>6.535241</td>\n",
       "      <td>0</td>\n",
       "      <td>6.520621</td>\n",
       "    </tr>\n",
       "  </tbody>\n",
       "</table>\n",
       "<p>5 rows × 36 columns</p>\n",
       "</div>"
      ],
      "text/plain": [
       "    LIMIT_BAL  SEX  EDUCATION  MARRIAGE       AGE  PAY_0  PAY_2  PAY_3  PAY_4  \\\n",
       "0  141.421356    1          2         0  4.898979      2      2     -1     -1   \n",
       "1  346.410162    1          2         1  5.099020     -1      2      0      0   \n",
       "2  300.000000    1          2         1  5.830952      0      0      0      0   \n",
       "3  223.606798    1          2         0  6.082763      0      0      0      0   \n",
       "4  223.606798    0          2         0  7.549834     -1      0     -1      0   \n",
       "\n",
       "   PAY_5  ...  PAY_AMT2_is_0  PAY_AMT2_>_0  PAY_AMT3_is_0  PAY_AMT3_>_0  \\\n",
       "0     -2  ...              0      6.535241              1           NaN   \n",
       "1      0  ...              0      6.907755              0      6.907755   \n",
       "2      0  ...              0      7.313220              0      6.907755   \n",
       "3      0  ...              0      7.610358              0      7.090077   \n",
       "4      0  ...              0     10.510014              0      9.210340   \n",
       "\n",
       "   PAY_AMT4_is_0  PAY_AMT4_>_0  PAY_AMT5_is_0  PAY_AMT5_>_0  PAY_AMT6_is_0  \\\n",
       "0              1           NaN              1           NaN              1   \n",
       "1              0      6.907755              1           NaN              0   \n",
       "2              0      6.907755              0      6.907755              0   \n",
       "3              0      7.003065              0      6.974479              0   \n",
       "4              0      9.104980              0      6.535241              0   \n",
       "\n",
       "   PAY_AMT6_>_0  \n",
       "0           NaN  \n",
       "1      7.600902  \n",
       "2      8.517193  \n",
       "3      6.907755  \n",
       "4      6.520621  \n",
       "\n",
       "[5 rows x 36 columns]"
      ]
     },
     "execution_count": 15,
     "metadata": {},
     "output_type": "execute_result"
    }
   ],
   "source": [
    "t_data.head()"
   ]
  },
  {
   "cell_type": "code",
   "execution_count": 16,
   "id": "f7ebb261",
   "metadata": {},
   "outputs": [
    {
     "name": "stdout",
     "output_type": "stream",
     "text": [
      "PAY_AMT1_is_0\n"
     ]
    },
    {
     "data": {
      "image/png": "[encoded data removed]",
      "text/plain": [
       "<Figure size 640x480 with 1 Axes>"
      ]
     },
     "metadata": {},
     "output_type": "display_data"
    }
   ],
   "source": [
    "#--Histogram of indicator part of PAY_AMT1 (=1 if PAY=0)--#\n",
    "\n",
    "print('PAY_AMT1_is_0')\n",
    "t_data['PAY_AMT1_is_0'].hist()\n",
    "plt.show()"
   ]
  },
  {
   "cell_type": "code",
   "execution_count": 17,
   "id": "bb2fd4d2",
   "metadata": {},
   "outputs": [
    {
     "name": "stdout",
     "output_type": "stream",
     "text": [
      "log(PAY_AMT1_>_0+1)\n"
     ]
    },
    {
     "data": {
      "image/png": "[encoded data removed]",
      "text/plain": [
       "<Figure size 640x480 with 1 Axes>"
      ]
     },
     "metadata": {},
     "output_type": "display_data"
    }
   ],
   "source": [
    "#--Histogram of continuous part of log(PAY_AMT1+1)--#\n",
    "\n",
    "print('log(PAY_AMT1_>_0+1)')\n",
    "t_data['PAY_AMT1_>_0'].hist(bins=150)\n",
    "plt.show()"
   ]
  },
  {
   "cell_type": "markdown",
   "id": "5936b0bd",
   "metadata": {},
   "source": [
    "## DATA PREPROCESSING"
   ]
  },
  {
   "cell_type": "markdown",
   "id": "e226902b",
   "metadata": {},
   "source": [
    "### Feature and Target Identification"
   ]
  },
  {
   "cell_type": "code",
   "execution_count": 18,
   "id": "1d6340df",
   "metadata": {},
   "outputs": [],
   "source": [
    "target = ['default payment next month']\n",
    "feature_list = [var for var in t_data.columns if var not in target]\n",
    "\n",
    "X = t_data[feature_list]\n",
    "y = t_data[target]"
   ]
  },
  {
   "cell_type": "markdown",
   "id": "2d4f14c2",
   "metadata": {},
   "source": [
    "### IMPUTATION"
   ]
  },
  {
   "cell_type": "code",
   "execution_count": 19,
   "id": "da7c59eb",
   "metadata": {},
   "outputs": [],
   "source": [
    "#--Impute data for missing values--#\n",
    "#-Adds noise, but is required for processing-#\n",
    "\n",
    "from sklearn.experimental import enable_iterative_imputer\n",
    "from sklearn.impute import IterativeImputer\n",
    "\n",
    "data_imputer = IterativeImputer(max_iter=10, random_state=0)\n",
    "\n",
    "data_fit = data_imputer.fit(X)\n",
    "\n",
    "X = pd.DataFrame(data_fit.transform(X), columns = X.columns)"
   ]
  },
  {
   "cell_type": "markdown",
   "id": "a7f3795e",
   "metadata": {},
   "source": [
    "## NORMALISER"
   ]
  },
  {
   "cell_type": "code",
   "execution_count": 20,
   "id": "994071aa",
   "metadata": {},
   "outputs": [],
   "source": [
    "#--Normalise all numerical values for future processing--#\n",
    "\n",
    "from sklearn.preprocessing import normalize\n",
    "\n",
    "categorical_variables = ['SEX', 'EDUCATION', 'MARRIAGE', 'PAY_0', 'PAY_2', 'PAY_3', 'PAY_4', 'PAY_5', 'PAY_6''PAY_AMT_IS_0', 'PAY_AMT_IS_1', 'PAY_AMT_IS_2', 'PAY_AMT_IS_3', 'PAY_AMT_IS_4',\n",
    "                        'PAY_AMT_IS_5', 'PAY_AMT_IS_6']\n",
    "numerical_variables = [var for var in X.columns if var not in categorical_variables]\n",
    "\n",
    "for var in numerical_variables:\n",
    "    normed_var = normalize(X[var].values.reshape(-1,1), axis=0)\n",
    "    X[var] = normed_var"
   ]
  },
  {
   "cell_type": "markdown",
   "id": "6596e568",
   "metadata": {},
   "source": [
    "## Create and Train Prediction Models"
   ]
  },
  {
   "cell_type": "code",
   "execution_count": 21,
   "id": "e98564c5",
   "metadata": {},
   "outputs": [],
   "source": [
    "#--Import splitting and neural network packages--#\n",
    "\n",
    "from sklearn.model_selection import train_test_split\n",
    "\n",
    "import tensorflow as tf\n",
    "from tensorflow.keras import layers\n",
    "\n",
    "from tensorflow.keras.wrappers.scikit_learn import KerasClassifier"
   ]
  },
  {
   "cell_type": "code",
   "execution_count": 22,
   "id": "19b00ab9",
   "metadata": {},
   "outputs": [],
   "source": [
    "#--Import evaluation metrics for models--#\n",
    "\n",
    "from sklearn.metrics import accuracy_score, roc_auc_score, precision_score, recall_score, confusion_matrix"
   ]
  },
  {
   "cell_type": "code",
   "execution_count": 23,
   "id": "0954c3e6",
   "metadata": {},
   "outputs": [],
   "source": [
    "#--Import classical models from sklearn--#\n",
    "\n",
    "from sklearn.linear_model import LogisticRegression, RidgeClassifier\n",
    "from sklearn.naive_bayes import GaussianNB\n",
    "from sklearn.neighbors import KNeighborsClassifier, RadiusNeighborsClassifier, NearestCentroid\n",
    "from sklearn.svm import SVC\n",
    "from sklearn.tree import DecisionTreeClassifier, ExtraTreeClassifier\n",
    "\n",
    "from sklearn.ensemble import AdaBoostClassifier, BaggingClassifier, GradientBoostingClassifier, RandomForestClassifier, StackingClassifier, VotingClassifier"
   ]
  },
  {
   "cell_type": "code",
   "execution_count": 24,
   "id": "238e5035",
   "metadata": {},
   "outputs": [],
   "source": [
    "#--Create custom neural net--#\n",
    "\n",
    "def my_neural_net():\n",
    "    model = tf.keras.Sequential([\n",
    "        layers.Dense(128, activation='relu'),\n",
    "      layers.Dense(64, activation='relu'),\n",
    "      layers.Dropout(.1),\n",
    "      layers.Dense(1, activation='relu')\n",
    "    ])\n",
    "\n",
    "    model.compile(optimizer='adam',\n",
    "                  loss=tf.keras.losses.BinaryCrossentropy(),\n",
    "                  metrics=[tf.keras.metrics.BinaryAccuracy(\n",
    "        name=\"binary_accuracy\", dtype=None, threshold=0.5\n",
    "    )])\n",
    "    return model"
   ]
  },
  {
   "cell_type": "code",
   "execution_count": 25,
   "id": "0db51694",
   "metadata": {},
   "outputs": [],
   "source": [
    "#--Import neural net into sklearn--#\n",
    "\n",
    "skl_neural_net = KerasClassifier(build_fn=my_neural_net, epochs=50, verbose=0)"
   ]
  },
  {
   "cell_type": "code",
   "execution_count": 35,
   "id": "bdf21332",
   "metadata": {},
   "outputs": [],
   "source": [
    "#--Combine all simple models into dataframe with their names--#\n",
    "\n",
    "model_name = ['Logistic Regression', 'Ridge', 'Naive Bayes', 'K Nearest', 'Radius', 'Centroid', 'SVM linear',\n",
    "             'SVM poly', 'SVM rbf', 'SVM sig', 'Decision Tree', 'Extra Tree', 'Neural Net']\n",
    "\n",
    "model_list = [LogisticRegression(), RidgeClassifier(), GaussianNB(), KNeighborsClassifier(), RadiusNeighborsClassifier(radius=10),\n",
    "              NearestCentroid(), SVC(kernel='linear'), SVC(kernel='poly'), SVC(kernel='rbf'), SVC(kernel='sigmoid'),\n",
    "              DecisionTreeClassifier(), ExtraTreeClassifier(), skl_neural_net]\n",
    "\n",
    "model_frame = pd.DataFrame(model_list, model_name)\n",
    "\n",
    "#--List all ensemble estimators--#\n",
    "\n",
    "ensemble_estimators = [('Logistic', LogisticRegression()), ('Ridge', RidgeClassifier()), ('SVM rbf', SVC(kernel='rbf'))]\n",
    "\n",
    "ensemble_name = ['AdaBoost', 'Bagging', 'Gradient Boost', 'Random Forest',\n",
    "                 'Stacking', 'Voting']\n",
    "\n",
    "ensemble_list = [AdaBoostClassifier(), BaggingClassifier(), GradientBoostingClassifier(), RandomForestClassifier(),\n",
    "                 StackingClassifier(estimators=ensemble_estimators), VotingClassifier(estimators=ensemble_estimators)]"
   ]
  },
  {
   "cell_type": "markdown",
   "id": "f1cdd25c",
   "metadata": {},
   "source": [
    "## Split Data into Train and Test Sets"
   ]
  },
  {
   "cell_type": "code",
   "execution_count": 27,
   "id": "961736be",
   "metadata": {},
   "outputs": [],
   "source": [
    "X_train, X_test, Y_train, Y_test = train_test_split(X, y, test_size=0.2)"
   ]
  },
  {
   "cell_type": "code",
   "execution_count": 36,
   "id": "7d95ae08",
   "metadata": {},
   "outputs": [
    {
     "name": "stderr",
     "output_type": "stream",
     "text": [
      "C:\\Users\\Client\\anaconda3\\lib\\site-packages\\sklearn\\utils\\validation.py:63: DataConversionWarning: A column-vector y was passed when a 1d array was expected. Please change the shape of y to (n_samples, ), for example using ravel().\n",
      "  return f(*args, **kwargs)\n",
      "C:\\Users\\Client\\anaconda3\\lib\\site-packages\\sklearn\\utils\\validation.py:63: DataConversionWarning: A column-vector y was passed when a 1d array was expected. Please change the shape of y to (n_samples, ), for example using ravel().\n",
      "  return f(*args, **kwargs)\n",
      "C:\\Users\\Client\\anaconda3\\lib\\site-packages\\sklearn\\utils\\validation.py:63: DataConversionWarning: A column-vector y was passed when a 1d array was expected. Please change the shape of y to (n_samples, ), for example using ravel().\n",
      "  return f(*args, **kwargs)\n",
      "C:\\Users\\Client\\anaconda3\\lib\\site-packages\\sklearn\\neighbors\\_classification.py:179: DataConversionWarning: A column-vector y was passed when a 1d array was expected. Please change the shape of y to (n_samples,), for example using ravel().\n",
      "  return self._fit(X, y)\n",
      "C:\\Users\\Client\\anaconda3\\lib\\site-packages\\sklearn\\neighbors\\_classification.py:441: DataConversionWarning: A column-vector y was passed when a 1d array was expected. Please change the shape of y to (n_samples,), for example using ravel().\n",
      "  self._fit(X, y)\n",
      "C:\\Users\\Client\\anaconda3\\lib\\site-packages\\sklearn\\utils\\validation.py:63: DataConversionWarning: A column-vector y was passed when a 1d array was expected. Please change the shape of y to (n_samples, ), for example using ravel().\n",
      "  return f(*args, **kwargs)\n",
      "C:\\Users\\Client\\anaconda3\\lib\\site-packages\\sklearn\\utils\\validation.py:63: DataConversionWarning: A column-vector y was passed when a 1d array was expected. Please change the shape of y to (n_samples, ), for example using ravel().\n",
      "  return f(*args, **kwargs)\n",
      "C:\\Users\\Client\\anaconda3\\lib\\site-packages\\sklearn\\utils\\validation.py:63: DataConversionWarning: A column-vector y was passed when a 1d array was expected. Please change the shape of y to (n_samples, ), for example using ravel().\n",
      "  return f(*args, **kwargs)\n",
      "C:\\Users\\Client\\anaconda3\\lib\\site-packages\\sklearn\\utils\\validation.py:63: DataConversionWarning: A column-vector y was passed when a 1d array was expected. Please change the shape of y to (n_samples, ), for example using ravel().\n",
      "  return f(*args, **kwargs)\n",
      "C:\\Users\\Client\\anaconda3\\lib\\site-packages\\sklearn\\utils\\validation.py:63: DataConversionWarning: A column-vector y was passed when a 1d array was expected. Please change the shape of y to (n_samples, ), for example using ravel().\n",
      "  return f(*args, **kwargs)\n"
     ]
    },
    {
     "data": {
      "text/html": [
       "<div>\n",
       "<style scoped>\n",
       "    .dataframe tbody tr th:only-of-type {\n",
       "        vertical-align: middle;\n",
       "    }\n",
       "\n",
       "    .dataframe tbody tr th {\n",
       "        vertical-align: top;\n",
       "    }\n",
       "\n",
       "    .dataframe thead th {\n",
       "        text-align: right;\n",
       "    }\n",
       "</style>\n",
       "<table border=\"1\" class=\"dataframe\">\n",
       "  <thead>\n",
       "    <tr style=\"text-align: right;\">\n",
       "      <th></th>\n",
       "      <th>time to run (sec)</th>\n",
       "      <th>Accuracy</th>\n",
       "      <th>AUC</th>\n",
       "      <th>Precision</th>\n",
       "      <th>Recall</th>\n",
       "    </tr>\n",
       "    <tr>\n",
       "      <th>Model</th>\n",
       "      <th></th>\n",
       "      <th></th>\n",
       "      <th></th>\n",
       "      <th></th>\n",
       "      <th></th>\n",
       "    </tr>\n",
       "  </thead>\n",
       "  <tbody>\n",
       "    <tr>\n",
       "      <th>Logistic Regression</th>\n",
       "      <td>0.206809</td>\n",
       "      <td>0.808098</td>\n",
       "      <td>0.766999</td>\n",
       "      <td>0.230183</td>\n",
       "      <td>0.719048</td>\n",
       "    </tr>\n",
       "    <tr>\n",
       "      <th>Ridge</th>\n",
       "      <td>0.047893</td>\n",
       "      <td>0.797210</td>\n",
       "      <td>0.760007</td>\n",
       "      <td>0.150152</td>\n",
       "      <td>0.718978</td>\n",
       "    </tr>\n",
       "    <tr>\n",
       "      <th>Naive Bayes</th>\n",
       "      <td>0.039299</td>\n",
       "      <td>0.695305</td>\n",
       "      <td>0.631835</td>\n",
       "      <td>0.644055</td>\n",
       "      <td>0.389580</td>\n",
       "    </tr>\n",
       "    <tr>\n",
       "      <th>K Nearest</th>\n",
       "      <td>3.804490</td>\n",
       "      <td>0.793978</td>\n",
       "      <td>0.696506</td>\n",
       "      <td>0.368140</td>\n",
       "      <td>0.558382</td>\n",
       "    </tr>\n",
       "    <tr>\n",
       "      <th>Radius</th>\n",
       "      <td>4.942750</td>\n",
       "      <td>0.779006</td>\n",
       "      <td>0.810454</td>\n",
       "      <td>0.012195</td>\n",
       "      <td>0.842105</td>\n",
       "    </tr>\n",
       "    <tr>\n",
       "      <th>Centroid</th>\n",
       "      <td>0.015110</td>\n",
       "      <td>0.779687</td>\n",
       "      <td>0.684085</td>\n",
       "      <td>0.524390</td>\n",
       "      <td>0.506255</td>\n",
       "    </tr>\n",
       "    <tr>\n",
       "      <th>SVM linear</th>\n",
       "      <td>113.389375</td>\n",
       "      <td>0.808608</td>\n",
       "      <td>0.757284</td>\n",
       "      <td>0.253049</td>\n",
       "      <td>0.696017</td>\n",
       "    </tr>\n",
       "    <tr>\n",
       "      <th>SVM poly</th>\n",
       "      <td>62.304812</td>\n",
       "      <td>0.811841</td>\n",
       "      <td>0.761786</td>\n",
       "      <td>0.273628</td>\n",
       "      <td>0.701172</td>\n",
       "    </tr>\n",
       "    <tr>\n",
       "      <th>SVM rbf</th>\n",
       "      <td>41.988915</td>\n",
       "      <td>0.819837</td>\n",
       "      <td>0.760363</td>\n",
       "      <td>0.360518</td>\n",
       "      <td>0.682540</td>\n",
       "    </tr>\n",
       "    <tr>\n",
       "      <th>SVM sig</th>\n",
       "      <td>31.043548</td>\n",
       "      <td>0.689860</td>\n",
       "      <td>0.526432</td>\n",
       "      <td>0.221799</td>\n",
       "      <td>0.266240</td>\n",
       "    </tr>\n",
       "    <tr>\n",
       "      <th>Decision Tree</th>\n",
       "      <td>0.974468</td>\n",
       "      <td>0.731541</td>\n",
       "      <td>0.613361</td>\n",
       "      <td>0.400915</td>\n",
       "      <td>0.399090</td>\n",
       "    </tr>\n",
       "    <tr>\n",
       "      <th>Extra Tree</th>\n",
       "      <td>0.048908</td>\n",
       "      <td>0.721164</td>\n",
       "      <td>0.600323</td>\n",
       "      <td>0.386433</td>\n",
       "      <td>0.378076</td>\n",
       "    </tr>\n",
       "    <tr>\n",
       "      <th>Neural Net</th>\n",
       "      <td>38.821378</td>\n",
       "      <td>0.817965</td>\n",
       "      <td>0.758531</td>\n",
       "      <td>0.346037</td>\n",
       "      <td>0.681682</td>\n",
       "    </tr>\n",
       "  </tbody>\n",
       "</table>\n",
       "</div>"
      ],
      "text/plain": [
       "                     time to run (sec)  Accuracy       AUC  Precision  \\\n",
       "Model                                                                   \n",
       "Logistic Regression           0.206809  0.808098  0.766999   0.230183   \n",
       "Ridge                         0.047893  0.797210  0.760007   0.150152   \n",
       "Naive Bayes                   0.039299  0.695305  0.631835   0.644055   \n",
       "K Nearest                     3.804490  0.793978  0.696506   0.368140   \n",
       "Radius                        4.942750  0.779006  0.810454   0.012195   \n",
       "Centroid                      0.015110  0.779687  0.684085   0.524390   \n",
       "SVM linear                  113.389375  0.808608  0.757284   0.253049   \n",
       "SVM poly                     62.304812  0.811841  0.761786   0.273628   \n",
       "SVM rbf                      41.988915  0.819837  0.760363   0.360518   \n",
       "SVM sig                      31.043548  0.689860  0.526432   0.221799   \n",
       "Decision Tree                 0.974468  0.731541  0.613361   0.400915   \n",
       "Extra Tree                    0.048908  0.721164  0.600323   0.386433   \n",
       "Neural Net                   38.821378  0.817965  0.758531   0.346037   \n",
       "\n",
       "                       Recall  \n",
       "Model                          \n",
       "Logistic Regression  0.719048  \n",
       "Ridge                0.718978  \n",
       "Naive Bayes          0.389580  \n",
       "K Nearest            0.558382  \n",
       "Radius               0.842105  \n",
       "Centroid             0.506255  \n",
       "SVM linear           0.696017  \n",
       "SVM poly             0.701172  \n",
       "SVM rbf              0.682540  \n",
       "SVM sig              0.266240  \n",
       "Decision Tree        0.399090  \n",
       "Extra Tree           0.378076  \n",
       "Neural Net           0.681682  "
      ]
     },
     "execution_count": 36,
     "metadata": {},
     "output_type": "execute_result"
    }
   ],
   "source": [
    "#--Generate dataframe report for each simple model with evaluation metrics--#\n",
    "\n",
    "my_report = []\n",
    "for nam, mod in model_frame.iterrows():\n",
    "    start_time=time.time()\n",
    "    if nam != 'Neural Net':\n",
    "        fitted_model = mod[0].fit(X_train, Y_train)\n",
    "        y_pred = fitted_model.predict(X_test)\n",
    "    else:\n",
    "        fitted_model = mod[0].fit(X_train, Y_train)\n",
    "        y_pred = np.round(fitted_model.model.predict(X_test))\n",
    "    end_time=time.time()\n",
    "    time_diff = end_time-start_time\n",
    "    my_report = my_report + [(nam, time_diff, accuracy_score(y_pred, Y_test), roc_auc_score(y_pred, Y_test), precision_score(y_pred, Y_test), recall_score(y_pred, Y_test))]\n",
    "    \n",
    "my_report = pd.DataFrame(my_report, columns=['Model', 'time to run (sec)', 'Accuracy', 'AUC', 'Precision', 'Recall'])\n",
    "my_report = my_report.set_index('Model')\n",
    "my_report"
   ]
  },
  {
   "cell_type": "code",
   "execution_count": 38,
   "id": "7dfaf6ec",
   "metadata": {},
   "outputs": [
    {
     "name": "stderr",
     "output_type": "stream",
     "text": [
      "C:\\Users\\Client\\anaconda3\\lib\\site-packages\\sklearn\\utils\\validation.py:63: DataConversionWarning: A column-vector y was passed when a 1d array was expected. Please change the shape of y to (n_samples, ), for example using ravel().\n",
      "  return f(*args, **kwargs)\n",
      "C:\\Users\\Client\\anaconda3\\lib\\site-packages\\sklearn\\utils\\validation.py:63: DataConversionWarning: A column-vector y was passed when a 1d array was expected. Please change the shape of y to (n_samples, ), for example using ravel().\n",
      "  return f(*args, **kwargs)\n",
      "C:\\Users\\Client\\anaconda3\\lib\\site-packages\\sklearn\\utils\\validation.py:63: DataConversionWarning: A column-vector y was passed when a 1d array was expected. Please change the shape of y to (n_samples, ), for example using ravel().\n",
      "  return f(*args, **kwargs)\n",
      "<ipython-input-38-9becf553405c>:8: DataConversionWarning: A column-vector y was passed when a 1d array was expected. Please change the shape of y to (n_samples,), for example using ravel().\n",
      "  fitted_model = mod.fit(X_train, Y_train)\n",
      "C:\\Users\\Client\\anaconda3\\lib\\site-packages\\sklearn\\utils\\validation.py:63: DataConversionWarning: A column-vector y was passed when a 1d array was expected. Please change the shape of y to (n_samples, ), for example using ravel().\n",
      "  return f(*args, **kwargs)\n",
      "C:\\Users\\Client\\anaconda3\\lib\\site-packages\\sklearn\\utils\\validation.py:63: DataConversionWarning: A column-vector y was passed when a 1d array was expected. Please change the shape of y to (n_samples, ), for example using ravel().\n",
      "  return f(*args, **kwargs)\n"
     ]
    },
    {
     "data": {
      "text/html": [
       "<div>\n",
       "<style scoped>\n",
       "    .dataframe tbody tr th:only-of-type {\n",
       "        vertical-align: middle;\n",
       "    }\n",
       "\n",
       "    .dataframe tbody tr th {\n",
       "        vertical-align: top;\n",
       "    }\n",
       "\n",
       "    .dataframe thead th {\n",
       "        text-align: right;\n",
       "    }\n",
       "</style>\n",
       "<table border=\"1\" class=\"dataframe\">\n",
       "  <thead>\n",
       "    <tr style=\"text-align: right;\">\n",
       "      <th></th>\n",
       "      <th>time to run (sec)</th>\n",
       "      <th>Accuracy</th>\n",
       "      <th>AUC</th>\n",
       "      <th>Precision</th>\n",
       "      <th>Recall</th>\n",
       "    </tr>\n",
       "    <tr>\n",
       "      <th>Model</th>\n",
       "      <th></th>\n",
       "      <th></th>\n",
       "      <th></th>\n",
       "      <th></th>\n",
       "      <th></th>\n",
       "    </tr>\n",
       "  </thead>\n",
       "  <tbody>\n",
       "    <tr>\n",
       "      <th>AdaBoost</th>\n",
       "      <td>3.480548</td>\n",
       "      <td>0.813032</td>\n",
       "      <td>0.752621</td>\n",
       "      <td>0.310976</td>\n",
       "      <td>0.676617</td>\n",
       "    </tr>\n",
       "    <tr>\n",
       "      <th>Bagging</th>\n",
       "      <td>6.317701</td>\n",
       "      <td>0.803505</td>\n",
       "      <td>0.720426</td>\n",
       "      <td>0.329268</td>\n",
       "      <td>0.611033</td>\n",
       "    </tr>\n",
       "    <tr>\n",
       "      <th>Gradient Boost</th>\n",
       "      <td>15.292495</td>\n",
       "      <td>0.821538</td>\n",
       "      <td>0.763632</td>\n",
       "      <td>0.367378</td>\n",
       "      <td>0.687589</td>\n",
       "    </tr>\n",
       "    <tr>\n",
       "      <th>Random Forest</th>\n",
       "      <td>9.779074</td>\n",
       "      <td>0.814223</td>\n",
       "      <td>0.742064</td>\n",
       "      <td>0.373476</td>\n",
       "      <td>0.644737</td>\n",
       "    </tr>\n",
       "    <tr>\n",
       "      <th>Stacking</th>\n",
       "      <td>173.698399</td>\n",
       "      <td>0.819837</td>\n",
       "      <td>0.760965</td>\n",
       "      <td>0.358232</td>\n",
       "      <td>0.684134</td>\n",
       "    </tr>\n",
       "    <tr>\n",
       "      <th>Voting</th>\n",
       "      <td>42.778069</td>\n",
       "      <td>0.808608</td>\n",
       "      <td>0.765957</td>\n",
       "      <td>0.236280</td>\n",
       "      <td>0.715935</td>\n",
       "    </tr>\n",
       "  </tbody>\n",
       "</table>\n",
       "</div>"
      ],
      "text/plain": [
       "                time to run (sec)  Accuracy       AUC  Precision    Recall\n",
       "Model                                                                     \n",
       "AdaBoost                 3.480548  0.813032  0.752621   0.310976  0.676617\n",
       "Bagging                  6.317701  0.803505  0.720426   0.329268  0.611033\n",
       "Gradient Boost          15.292495  0.821538  0.763632   0.367378  0.687589\n",
       "Random Forest            9.779074  0.814223  0.742064   0.373476  0.644737\n",
       "Stacking               173.698399  0.819837  0.760965   0.358232  0.684134\n",
       "Voting                  42.778069  0.808608  0.765957   0.236280  0.715935"
      ]
     },
     "execution_count": 38,
     "metadata": {},
     "output_type": "execute_result"
    }
   ],
   "source": [
    "#--Generate dataframe report for each simple model with evaluation metrics--#\n",
    "\n",
    "ensemble_report = []\n",
    "for i in range(6):\n",
    "    nam = ensemble_name[i]\n",
    "    mod = ensemble_list[i]\n",
    "    start_time=time.time()\n",
    "    fitted_model = mod.fit(X_train, Y_train)\n",
    "    y_pred = fitted_model.predict(X_test)\n",
    "    end_time=time.time()\n",
    "    time_diff = end_time-start_time\n",
    "    ensemble_report = ensemble_report + [(nam, time_diff, accuracy_score(y_pred, Y_test), roc_auc_score(y_pred, Y_test), precision_score(y_pred, Y_test), recall_score(y_pred, Y_test))]\n",
    "    \n",
    "ensemble_report = pd.DataFrame(ensemble_report, columns=['Model', 'time to run (sec)', 'Accuracy', 'AUC', 'Precision', 'Recall'])\n",
    "ensemble_report = ensemble_report.set_index('Model')\n",
    "ensemble_report"
   ]
  }
 ],
 "metadata": {
  "kernelspec": {
   "display_name": "Python 3",
   "language": "python",
   "name": "python3"
  },
  "language_info": {
   "codemirror_mode": {
    "name": "ipython",
    "version": 3
   },
   "file_extension": ".py",
   "mimetype": "text/x-python",
   "name": "python",
   "nbconvert_exporter": "python",
   "pygments_lexer": "ipython3",
   "version": "3.8.8"
  }
 },
 "nbformat": 4,
 "nbformat_minor": 5
}
